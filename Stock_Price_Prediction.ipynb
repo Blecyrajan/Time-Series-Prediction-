{
  "nbformat": 4,
  "nbformat_minor": 0,
  "metadata": {
    "colab": {
      "name": "Stock Price Prediction",
      "provenance": [],
      "collapsed_sections": [],
      "authorship_tag": "ABX9TyPRZgieQS6mFiipoFuU8wxc",
      "include_colab_link": true
    },
    "kernelspec": {
      "name": "python3",
      "display_name": "Python 3"
    },
    "language_info": {
      "name": "python"
    }
  },
  "cells": [
    {
      "cell_type": "markdown",
      "metadata": {
        "id": "view-in-github",
        "colab_type": "text"
      },
      "source": [
        "<a href=\"https://colab.research.google.com/github/Blecyrajan/Time-Series-Prediction-/blob/main/Stock_Price_Prediction.ipynb\" target=\"_parent\"><img src=\"https://colab.research.google.com/assets/colab-badge.svg\" alt=\"Open In Colab\"/></a>"
      ]
    },
    {
      "cell_type": "code",
      "metadata": {
        "id": "rYWPzvpFOIKk"
      },
      "source": [
        "import numpy as np\n",
        "import pandas as pd #alias\n"
      ],
      "execution_count": 1,
      "outputs": []
    },
    {
      "cell_type": "code",
      "metadata": {
        "id": "8N1dQ2M_PmSR"
      },
      "source": [
        "path = \"/content/Uniqlo(FastRetailing) 2012-2016 Training - stocks2012-2016.csv\"\n",
        "df = pd.read_csv(path)"
      ],
      "execution_count": 4,
      "outputs": []
    },
    {
      "cell_type": "code",
      "metadata": {
        "colab": {
          "base_uri": "https://localhost:8080/",
          "height": 143
        },
        "id": "RQbeRYNkSB5O",
        "outputId": "5cf849e6-f928-4f8d-c4e3-5a02aea2dfd5"
      },
      "source": [
        "df.head(3)\n"
      ],
      "execution_count": 5,
      "outputs": [
        {
          "output_type": "execute_result",
          "data": {
            "text/html": [
              "<div>\n",
              "<style scoped>\n",
              "    .dataframe tbody tr th:only-of-type {\n",
              "        vertical-align: middle;\n",
              "    }\n",
              "\n",
              "    .dataframe tbody tr th {\n",
              "        vertical-align: top;\n",
              "    }\n",
              "\n",
              "    .dataframe thead th {\n",
              "        text-align: right;\n",
              "    }\n",
              "</style>\n",
              "<table border=\"1\" class=\"dataframe\">\n",
              "  <thead>\n",
              "    <tr style=\"text-align: right;\">\n",
              "      <th></th>\n",
              "      <th>Date</th>\n",
              "      <th>Open</th>\n",
              "      <th>High</th>\n",
              "      <th>Low</th>\n",
              "      <th>Close</th>\n",
              "      <th>Volume</th>\n",
              "      <th>Stock Trading</th>\n",
              "    </tr>\n",
              "  </thead>\n",
              "  <tbody>\n",
              "    <tr>\n",
              "      <th>0</th>\n",
              "      <td>30-12-2016</td>\n",
              "      <td>42120</td>\n",
              "      <td>42330</td>\n",
              "      <td>41700</td>\n",
              "      <td>41830</td>\n",
              "      <td>610000</td>\n",
              "      <td>2.562803e+10</td>\n",
              "    </tr>\n",
              "    <tr>\n",
              "      <th>1</th>\n",
              "      <td>29-12-2016</td>\n",
              "      <td>43000</td>\n",
              "      <td>43220</td>\n",
              "      <td>42540</td>\n",
              "      <td>42660</td>\n",
              "      <td>448400</td>\n",
              "      <td>1.918823e+10</td>\n",
              "    </tr>\n",
              "    <tr>\n",
              "      <th>2</th>\n",
              "      <td>28-12-2016</td>\n",
              "      <td>43940</td>\n",
              "      <td>43970</td>\n",
              "      <td>43270</td>\n",
              "      <td>43270</td>\n",
              "      <td>339900</td>\n",
              "      <td>1.478067e+10</td>\n",
              "    </tr>\n",
              "  </tbody>\n",
              "</table>\n",
              "</div>"
            ],
            "text/plain": [
              "         Date   Open   High    Low  Close  Volume  Stock Trading\n",
              "0  30-12-2016  42120  42330  41700  41830  610000   2.562803e+10\n",
              "1  29-12-2016  43000  43220  42540  42660  448400   1.918823e+10\n",
              "2  28-12-2016  43940  43970  43270  43270  339900   1.478067e+10"
            ]
          },
          "metadata": {},
          "execution_count": 5
        }
      ]
    },
    {
      "cell_type": "code",
      "metadata": {
        "colab": {
          "base_uri": "https://localhost:8080/",
          "height": 143
        },
        "id": "lMudHgj0SORz",
        "outputId": "e8985a64-86af-4302-f9f3-aece5ad53d57"
      },
      "source": [
        "df.tail(3)"
      ],
      "execution_count": 6,
      "outputs": [
        {
          "output_type": "execute_result",
          "data": {
            "text/html": [
              "<div>\n",
              "<style scoped>\n",
              "    .dataframe tbody tr th:only-of-type {\n",
              "        vertical-align: middle;\n",
              "    }\n",
              "\n",
              "    .dataframe tbody tr th {\n",
              "        vertical-align: top;\n",
              "    }\n",
              "\n",
              "    .dataframe thead th {\n",
              "        text-align: right;\n",
              "    }\n",
              "</style>\n",
              "<table border=\"1\" class=\"dataframe\">\n",
              "  <thead>\n",
              "    <tr style=\"text-align: right;\">\n",
              "      <th></th>\n",
              "      <th>Date</th>\n",
              "      <th>Open</th>\n",
              "      <th>High</th>\n",
              "      <th>Low</th>\n",
              "      <th>Close</th>\n",
              "      <th>Volume</th>\n",
              "      <th>Stock Trading</th>\n",
              "    </tr>\n",
              "  </thead>\n",
              "  <tbody>\n",
              "    <tr>\n",
              "      <th>1223</th>\n",
              "      <td>06-01-2012</td>\n",
              "      <td>13990</td>\n",
              "      <td>14030</td>\n",
              "      <td>13790</td>\n",
              "      <td>13850</td>\n",
              "      <td>765500</td>\n",
              "      <td>1.063561e+10</td>\n",
              "    </tr>\n",
              "    <tr>\n",
              "      <th>1224</th>\n",
              "      <td>05-01-2012</td>\n",
              "      <td>13720</td>\n",
              "      <td>13840</td>\n",
              "      <td>13600</td>\n",
              "      <td>13800</td>\n",
              "      <td>511500</td>\n",
              "      <td>7.030811e+09</td>\n",
              "    </tr>\n",
              "    <tr>\n",
              "      <th>1225</th>\n",
              "      <td>04-01-2012</td>\n",
              "      <td>14050</td>\n",
              "      <td>14050</td>\n",
              "      <td>13700</td>\n",
              "      <td>13720</td>\n",
              "      <td>559100</td>\n",
              "      <td>7.719804e+09</td>\n",
              "    </tr>\n",
              "  </tbody>\n",
              "</table>\n",
              "</div>"
            ],
            "text/plain": [
              "            Date   Open   High    Low  Close  Volume  Stock Trading\n",
              "1223  06-01-2012  13990  14030  13790  13850  765500   1.063561e+10\n",
              "1224  05-01-2012  13720  13840  13600  13800  511500   7.030811e+09\n",
              "1225  04-01-2012  14050  14050  13700  13720  559100   7.719804e+09"
            ]
          },
          "metadata": {},
          "execution_count": 6
        }
      ]
    },
    {
      "cell_type": "code",
      "metadata": {
        "colab": {
          "base_uri": "https://localhost:8080/"
        },
        "id": "kx1IOG8iSbTG",
        "outputId": "41c61928-1ab5-4fe0-98a1-ddfbe22d6cff"
      },
      "source": [
        "df =df['High']\n",
        "df.head(3)"
      ],
      "execution_count": 7,
      "outputs": [
        {
          "output_type": "execute_result",
          "data": {
            "text/plain": [
              "0    42330\n",
              "1    43220\n",
              "2    43970\n",
              "Name: High, dtype: int64"
            ]
          },
          "metadata": {},
          "execution_count": 7
        }
      ]
    },
    {
      "cell_type": "code",
      "metadata": {
        "id": "_oi8orVISwpT"
      },
      "source": [
        "import matplotlib.pyplot as plt\n",
        "def plot_series(data):\n",
        "  for df in data:\n",
        "    pl.plot(df)\n",
        "  plt.show()  \n"
      ],
      "execution_count": 11,
      "outputs": []
    },
    {
      "cell_type": "code",
      "metadata": {
        "id": "FYIIeRCfT9uO"
      },
      "source": [
        "train = df[:int(0.8*len(df))]\n",
        "test = df[int(0.8*len(df)):]"
      ],
      "execution_count": 26,
      "outputs": []
    },
    {
      "cell_type": "code",
      "metadata": {
        "colab": {
          "base_uri": "https://localhost:8080/",
          "height": 250
        },
        "id": "JPGhiqlQUie7",
        "outputId": "4456fb89-6e91-44e2-8a1c-2c2e545aea02"
      },
      "source": [
        "\n",
        "def arrange(data, window=10):\n",
        "  x = []\n",
        "  y = []\n",
        "for i, val in enumerate(data):\n",
        "  if i<window:\n",
        "    continue\n",
        "  x.append((data[i-window:i-1]).reshape(-1,1))\n",
        "  y.append(data[i].reshape(-1,1))\n",
        "  x = np.asarray(x)\n",
        "  y = np.asarray(y)\n",
        "return x,y"
      ],
      "execution_count": 37,
      "outputs": [
        {
          "output_type": "error",
          "ename": "NameError",
          "evalue": "ignored",
          "traceback": [
            "\u001b[0;31m---------------------------------------------------------------------------\u001b[0m",
            "\u001b[0;31mNameError\u001b[0m                                 Traceback (most recent call last)",
            "\u001b[0;32m<ipython-input-37-c265dabd92a5>\u001b[0m in \u001b[0;36m<module>\u001b[0;34m()\u001b[0m\n\u001b[1;32m      3\u001b[0m   \u001b[0mx\u001b[0m \u001b[0;34m=\u001b[0m \u001b[0;34m[\u001b[0m\u001b[0;34m]\u001b[0m\u001b[0;34m\u001b[0m\u001b[0;34m\u001b[0m\u001b[0m\n\u001b[1;32m      4\u001b[0m   \u001b[0my\u001b[0m \u001b[0;34m=\u001b[0m \u001b[0;34m[\u001b[0m\u001b[0;34m]\u001b[0m\u001b[0;34m\u001b[0m\u001b[0;34m\u001b[0m\u001b[0m\n\u001b[0;32m----> 5\u001b[0;31m \u001b[0;32mfor\u001b[0m \u001b[0mi\u001b[0m\u001b[0;34m,\u001b[0m \u001b[0mval\u001b[0m \u001b[0;32min\u001b[0m \u001b[0menumerate\u001b[0m\u001b[0;34m(\u001b[0m\u001b[0mdata\u001b[0m\u001b[0;34m)\u001b[0m\u001b[0;34m:\u001b[0m\u001b[0;34m\u001b[0m\u001b[0;34m\u001b[0m\u001b[0m\n\u001b[0m\u001b[1;32m      6\u001b[0m   \u001b[0;32mif\u001b[0m \u001b[0mi\u001b[0m\u001b[0;34m<\u001b[0m\u001b[0mwindow\u001b[0m\u001b[0;34m:\u001b[0m\u001b[0;34m\u001b[0m\u001b[0;34m\u001b[0m\u001b[0m\n\u001b[1;32m      7\u001b[0m     \u001b[0;32mcontinue\u001b[0m\u001b[0;34m\u001b[0m\u001b[0;34m\u001b[0m\u001b[0m\n",
            "\u001b[0;31mNameError\u001b[0m: name 'data' is not defined"
          ]
        }
      ]
    },
    {
      "cell_type": "code",
      "metadata": {
        "colab": {
          "base_uri": "https://localhost:8080/",
          "height": 194
        },
        "id": "z80D5TgxZI7w",
        "outputId": "be71bace-28bb-4098-e350-4e56987aaf5e"
      },
      "source": [
        "X_train, y_train = arrange(train, 15)\n",
        "print(\"x-shape is: {} and y-shape is: {}\".format(X_train.shape, y_train.shape))"
      ],
      "execution_count": 30,
      "outputs": [
        {
          "output_type": "error",
          "ename": "TypeError",
          "evalue": "ignored",
          "traceback": [
            "\u001b[0;31m---------------------------------------------------------------------------\u001b[0m",
            "\u001b[0;31mTypeError\u001b[0m                                 Traceback (most recent call last)",
            "\u001b[0;32m<ipython-input-30-ba831e99c11f>\u001b[0m in \u001b[0;36m<module>\u001b[0;34m()\u001b[0m\n\u001b[0;32m----> 1\u001b[0;31m \u001b[0mX_train\u001b[0m\u001b[0;34m,\u001b[0m \u001b[0my_train\u001b[0m \u001b[0;34m=\u001b[0m \u001b[0marrange\u001b[0m\u001b[0;34m(\u001b[0m\u001b[0mtrain\u001b[0m\u001b[0;34m,\u001b[0m \u001b[0;36m15\u001b[0m\u001b[0;34m)\u001b[0m\u001b[0;34m\u001b[0m\u001b[0;34m\u001b[0m\u001b[0m\n\u001b[0m\u001b[1;32m      2\u001b[0m \u001b[0mprint\u001b[0m\u001b[0;34m(\u001b[0m\u001b[0;34m\"x-shape is: {} and y-shape is: {}\"\u001b[0m\u001b[0;34m.\u001b[0m\u001b[0mformat\u001b[0m\u001b[0;34m(\u001b[0m\u001b[0mX_train\u001b[0m\u001b[0;34m.\u001b[0m\u001b[0mshape\u001b[0m\u001b[0;34m,\u001b[0m \u001b[0my_train\u001b[0m\u001b[0;34m.\u001b[0m\u001b[0mshape\u001b[0m\u001b[0;34m)\u001b[0m\u001b[0;34m)\u001b[0m\u001b[0;34m\u001b[0m\u001b[0;34m\u001b[0m\u001b[0m\n",
            "\u001b[0;31mTypeError\u001b[0m: cannot unpack non-iterable NoneType object"
          ]
        }
      ]
    }
  ]
}